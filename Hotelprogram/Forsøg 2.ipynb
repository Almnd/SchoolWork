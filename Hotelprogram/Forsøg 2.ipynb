{
 "cells": [
  {
   "cell_type": "code",
   "execution_count": 4,
   "metadata": {},
   "outputs": [],
   "source": [
    "library(tidyverse) \n",
    "library(\"dplyr\")"
   ]
  },
  {
   "cell_type": "code",
   "execution_count": 6,
   "metadata": {},
   "outputs": [],
   "source": [
    "HD <- \"hotel_bookings.csv\"\n",
    "hData <- read.csv(HD)"
   ]
  },
  {
   "cell_type": "code",
   "execution_count": 8,
   "metadata": {},
   "outputs": [
    {
     "name": "stdout",
     "output_type": "stream",
     "text": [
      "'data.frame':\t119390 obs. of  32 variables:\n",
      " $ hotel                         : Factor w/ 2 levels \"City Hotel\",\"Resort Hotel\": 2 2 2 2 2 2 2 2 2 2 ...\n",
      " $ is_canceled                   : int  0 0 0 0 0 0 0 0 1 1 ...\n",
      " $ lead_time                     : int  342 737 7 13 14 14 0 9 85 75 ...\n",
      " $ arrival_date_year             : int  2015 2015 2015 2015 2015 2015 2015 2015 2015 2015 ...\n",
      " $ arrival_date_month            : Factor w/ 12 levels \"April\",\"August\",..: 6 6 6 6 6 6 6 6 6 6 ...\n",
      " $ arrival_date_week_number      : int  27 27 27 27 27 27 27 27 27 27 ...\n",
      " $ arrival_date_day_of_month     : int  1 1 1 1 1 1 1 1 1 1 ...\n",
      " $ stays_in_weekend_nights       : int  0 0 0 0 0 0 0 0 0 0 ...\n",
      " $ stays_in_week_nights          : int  0 0 1 1 2 2 2 2 3 3 ...\n",
      " $ adults                        : int  2 2 1 1 2 2 2 2 2 2 ...\n",
      " $ children                      : int  0 0 0 0 0 0 0 0 0 0 ...\n",
      " $ babies                        : int  0 0 0 0 0 0 0 0 0 0 ...\n",
      " $ meal                          : Factor w/ 5 levels \"BB\",\"FB\",\"HB\",..: 1 1 1 1 1 1 1 2 1 3 ...\n",
      " $ country                       : Factor w/ 178 levels \"ABW\",\"AGO\",\"AIA\",..: 137 137 60 60 60 60 137 137 137 137 ...\n",
      " $ market_segment                : Factor w/ 8 levels \"Aviation\",\"Complementary\",..: 4 4 4 3 7 7 4 4 7 6 ...\n",
      " $ distribution_channel          : Factor w/ 5 levels \"Corporate\",\"Direct\",..: 2 2 2 1 4 4 2 2 4 4 ...\n",
      " $ is_repeated_guest             : int  0 0 0 0 0 0 0 0 0 0 ...\n",
      " $ previous_cancellations        : int  0 0 0 0 0 0 0 0 0 0 ...\n",
      " $ previous_bookings_not_canceled: int  0 0 0 0 0 0 0 0 0 0 ...\n",
      " $ reserved_room_type            : Factor w/ 10 levels \"A\",\"B\",\"C\",\"D\",..: 3 3 1 1 1 1 3 3 1 4 ...\n",
      " $ assigned_room_type            : Factor w/ 12 levels \"A\",\"B\",\"C\",\"D\",..: 3 3 3 1 1 1 3 3 1 4 ...\n",
      " $ booking_changes               : int  3 4 0 0 0 0 0 0 0 0 ...\n",
      " $ deposit_type                  : Factor w/ 3 levels \"No Deposit\",\"Non Refund\",..: 1 1 1 1 1 1 1 1 1 1 ...\n",
      " $ agent                         : Factor w/ 334 levels \"1\",\"10\",\"103\",..: 334 334 334 157 103 103 334 156 103 40 ...\n",
      " $ company                       : Factor w/ 353 levels \"10\",\"100\",\"101\",..: 353 353 353 353 353 353 353 353 353 353 ...\n",
      " $ days_in_waiting_list          : int  0 0 0 0 0 0 0 0 0 0 ...\n",
      " $ customer_type                 : Factor w/ 4 levels \"Contract\",\"Group\",..: 3 3 3 3 3 3 3 3 3 3 ...\n",
      " $ adr                           : num  0 0 75 75 98 ...\n",
      " $ required_car_parking_spaces   : int  0 0 0 0 0 0 0 0 0 0 ...\n",
      " $ total_of_special_requests     : int  0 0 0 0 1 1 0 1 1 0 ...\n",
      " $ reservation_status            : Factor w/ 3 levels \"Canceled\",\"Check-Out\",..: 2 2 2 2 2 2 2 2 1 1 ...\n",
      " $ reservation_status_date       : Factor w/ 926 levels \"2014-10-17\",\"2014-11-18\",..: 122 122 123 123 124 124 124 124 73 62 ...\n"
     ]
    }
   ],
   "source": [
    "str(hData)"
   ]
  },
  {
   "cell_type": "code",
   "execution_count": 10,
   "metadata": {},
   "outputs": [
    {
     "data": {
      "text/plain": [
       "\n",
       "  FALSE    TRUE \n",
       "3820476       4 "
      ]
     },
     "metadata": {},
     "output_type": "display_data"
    },
    {
     "data": {
      "text/plain": [
       "\n",
       "  FALSE \n",
       "3820352 "
      ]
     },
     "metadata": {},
     "output_type": "display_data"
    }
   ],
   "source": [
    "table(is.na(hData))\n",
    "hotelData <- na.omit(hData)\n",
    "table(is.na(hotelData))"
   ]
  },
  {
   "cell_type": "code",
   "execution_count": 12,
   "metadata": {
    "scrolled": false
   },
   "outputs": [
    {
     "data": {
      "text/html": [
       "<table>\n",
       "<thead><tr><th scope=col>hotel</th><th scope=col>is_canceled</th><th scope=col>lead_time</th><th scope=col>arrival_date_year</th><th scope=col>arrival_date_month</th><th scope=col>arrival_date_week_number</th><th scope=col>arrival_date_day_of_month</th><th scope=col>stays_in_weekend_nights</th><th scope=col>stays_in_week_nights</th><th scope=col>adults</th><th scope=col>...</th><th scope=col>deposit_type</th><th scope=col>agent</th><th scope=col>company</th><th scope=col>days_in_waiting_list</th><th scope=col>customer_type</th><th scope=col>adr</th><th scope=col>required_car_parking_spaces</th><th scope=col>total_of_special_requests</th><th scope=col>reservation_status</th><th scope=col>reservation_status_date</th></tr></thead>\n",
       "<tbody>\n",
       "\t<tr><td>Resort Hotel</td><td>0           </td><td>342         </td><td>2015        </td><td>July        </td><td>27          </td><td>1           </td><td>0           </td><td>0           </td><td>2           </td><td>...         </td><td>No Deposit  </td><td>NULL        </td><td>NULL        </td><td>0           </td><td>Transient   </td><td> 0          </td><td>0           </td><td>0           </td><td>Check-Out   </td><td>2015-07-01  </td></tr>\n",
       "\t<tr><td>Resort Hotel</td><td>0           </td><td>737         </td><td>2015        </td><td>July        </td><td>27          </td><td>1           </td><td>0           </td><td>0           </td><td>2           </td><td>...         </td><td>No Deposit  </td><td>NULL        </td><td>NULL        </td><td>0           </td><td>Transient   </td><td> 0          </td><td>0           </td><td>0           </td><td>Check-Out   </td><td>2015-07-01  </td></tr>\n",
       "\t<tr><td>Resort Hotel</td><td>0           </td><td>  7         </td><td>2015        </td><td>July        </td><td>27          </td><td>1           </td><td>0           </td><td>1           </td><td>1           </td><td>...         </td><td>No Deposit  </td><td>NULL        </td><td>NULL        </td><td>0           </td><td>Transient   </td><td>75          </td><td>0           </td><td>0           </td><td>Check-Out   </td><td>2015-07-02  </td></tr>\n",
       "\t<tr><td>Resort Hotel</td><td>0           </td><td> 13         </td><td>2015        </td><td>July        </td><td>27          </td><td>1           </td><td>0           </td><td>1           </td><td>1           </td><td>...         </td><td>No Deposit  </td><td>304         </td><td>NULL        </td><td>0           </td><td>Transient   </td><td>75          </td><td>0           </td><td>0           </td><td>Check-Out   </td><td>2015-07-02  </td></tr>\n",
       "\t<tr><td>Resort Hotel</td><td>0           </td><td> 14         </td><td>2015        </td><td>July        </td><td>27          </td><td>1           </td><td>0           </td><td>2           </td><td>2           </td><td>...         </td><td>No Deposit  </td><td>240         </td><td>NULL        </td><td>0           </td><td>Transient   </td><td>98          </td><td>0           </td><td>1           </td><td>Check-Out   </td><td>2015-07-03  </td></tr>\n",
       "\t<tr><td>Resort Hotel</td><td>0           </td><td> 14         </td><td>2015        </td><td>July        </td><td>27          </td><td>1           </td><td>0           </td><td>2           </td><td>2           </td><td>...         </td><td>No Deposit  </td><td>240         </td><td>NULL        </td><td>0           </td><td>Transient   </td><td>98          </td><td>0           </td><td>1           </td><td>Check-Out   </td><td>2015-07-03  </td></tr>\n",
       "</tbody>\n",
       "</table>\n"
      ],
      "text/latex": [
       "\\begin{tabular}{r|llllllllllllllllllllllllllllllll}\n",
       " hotel & is\\_canceled & lead\\_time & arrival\\_date\\_year & arrival\\_date\\_month & arrival\\_date\\_week\\_number & arrival\\_date\\_day\\_of\\_month & stays\\_in\\_weekend\\_nights & stays\\_in\\_week\\_nights & adults & ... & deposit\\_type & agent & company & days\\_in\\_waiting\\_list & customer\\_type & adr & required\\_car\\_parking\\_spaces & total\\_of\\_special\\_requests & reservation\\_status & reservation\\_status\\_date\\\\\n",
       "\\hline\n",
       "\t Resort Hotel & 0            & 342          & 2015         & July         & 27           & 1            & 0            & 0            & 2            & ...          & No Deposit   & NULL         & NULL         & 0            & Transient    &  0           & 0            & 0            & Check-Out    & 2015-07-01  \\\\\n",
       "\t Resort Hotel & 0            & 737          & 2015         & July         & 27           & 1            & 0            & 0            & 2            & ...          & No Deposit   & NULL         & NULL         & 0            & Transient    &  0           & 0            & 0            & Check-Out    & 2015-07-01  \\\\\n",
       "\t Resort Hotel & 0            &   7          & 2015         & July         & 27           & 1            & 0            & 1            & 1            & ...          & No Deposit   & NULL         & NULL         & 0            & Transient    & 75           & 0            & 0            & Check-Out    & 2015-07-02  \\\\\n",
       "\t Resort Hotel & 0            &  13          & 2015         & July         & 27           & 1            & 0            & 1            & 1            & ...          & No Deposit   & 304          & NULL         & 0            & Transient    & 75           & 0            & 0            & Check-Out    & 2015-07-02  \\\\\n",
       "\t Resort Hotel & 0            &  14          & 2015         & July         & 27           & 1            & 0            & 2            & 2            & ...          & No Deposit   & 240          & NULL         & 0            & Transient    & 98           & 0            & 1            & Check-Out    & 2015-07-03  \\\\\n",
       "\t Resort Hotel & 0            &  14          & 2015         & July         & 27           & 1            & 0            & 2            & 2            & ...          & No Deposit   & 240          & NULL         & 0            & Transient    & 98           & 0            & 1            & Check-Out    & 2015-07-03  \\\\\n",
       "\\end{tabular}\n"
      ],
      "text/markdown": [
       "\n",
       "| hotel | is_canceled | lead_time | arrival_date_year | arrival_date_month | arrival_date_week_number | arrival_date_day_of_month | stays_in_weekend_nights | stays_in_week_nights | adults | ... | deposit_type | agent | company | days_in_waiting_list | customer_type | adr | required_car_parking_spaces | total_of_special_requests | reservation_status | reservation_status_date |\n",
       "|---|---|---|---|---|---|---|---|---|---|---|---|---|---|---|---|---|---|---|---|---|\n",
       "| Resort Hotel | 0            | 342          | 2015         | July         | 27           | 1            | 0            | 0            | 2            | ...          | No Deposit   | NULL         | NULL         | 0            | Transient    |  0           | 0            | 0            | Check-Out    | 2015-07-01   |\n",
       "| Resort Hotel | 0            | 737          | 2015         | July         | 27           | 1            | 0            | 0            | 2            | ...          | No Deposit   | NULL         | NULL         | 0            | Transient    |  0           | 0            | 0            | Check-Out    | 2015-07-01   |\n",
       "| Resort Hotel | 0            |   7          | 2015         | July         | 27           | 1            | 0            | 1            | 1            | ...          | No Deposit   | NULL         | NULL         | 0            | Transient    | 75           | 0            | 0            | Check-Out    | 2015-07-02   |\n",
       "| Resort Hotel | 0            |  13          | 2015         | July         | 27           | 1            | 0            | 1            | 1            | ...          | No Deposit   | 304          | NULL         | 0            | Transient    | 75           | 0            | 0            | Check-Out    | 2015-07-02   |\n",
       "| Resort Hotel | 0            |  14          | 2015         | July         | 27           | 1            | 0            | 2            | 2            | ...          | No Deposit   | 240          | NULL         | 0            | Transient    | 98           | 0            | 1            | Check-Out    | 2015-07-03   |\n",
       "| Resort Hotel | 0            |  14          | 2015         | July         | 27           | 1            | 0            | 2            | 2            | ...          | No Deposit   | 240          | NULL         | 0            | Transient    | 98           | 0            | 1            | Check-Out    | 2015-07-03   |\n",
       "\n"
      ],
      "text/plain": [
       "  hotel        is_canceled lead_time arrival_date_year arrival_date_month\n",
       "1 Resort Hotel 0           342       2015              July              \n",
       "2 Resort Hotel 0           737       2015              July              \n",
       "3 Resort Hotel 0             7       2015              July              \n",
       "4 Resort Hotel 0            13       2015              July              \n",
       "5 Resort Hotel 0            14       2015              July              \n",
       "6 Resort Hotel 0            14       2015              July              \n",
       "  arrival_date_week_number arrival_date_day_of_month stays_in_weekend_nights\n",
       "1 27                       1                         0                      \n",
       "2 27                       1                         0                      \n",
       "3 27                       1                         0                      \n",
       "4 27                       1                         0                      \n",
       "5 27                       1                         0                      \n",
       "6 27                       1                         0                      \n",
       "  stays_in_week_nights adults ... deposit_type agent company\n",
       "1 0                    2      ... No Deposit   NULL  NULL   \n",
       "2 0                    2      ... No Deposit   NULL  NULL   \n",
       "3 1                    1      ... No Deposit   NULL  NULL   \n",
       "4 1                    1      ... No Deposit   304   NULL   \n",
       "5 2                    2      ... No Deposit   240   NULL   \n",
       "6 2                    2      ... No Deposit   240   NULL   \n",
       "  days_in_waiting_list customer_type adr required_car_parking_spaces\n",
       "1 0                    Transient      0  0                          \n",
       "2 0                    Transient      0  0                          \n",
       "3 0                    Transient     75  0                          \n",
       "4 0                    Transient     75  0                          \n",
       "5 0                    Transient     98  0                          \n",
       "6 0                    Transient     98  0                          \n",
       "  total_of_special_requests reservation_status reservation_status_date\n",
       "1 0                         Check-Out          2015-07-01             \n",
       "2 0                         Check-Out          2015-07-01             \n",
       "3 0                         Check-Out          2015-07-02             \n",
       "4 0                         Check-Out          2015-07-02             \n",
       "5 1                         Check-Out          2015-07-03             \n",
       "6 1                         Check-Out          2015-07-03             "
      ]
     },
     "metadata": {},
     "output_type": "display_data"
    }
   ],
   "source": [
    "head(hotelData)"
   ]
  },
  {
   "cell_type": "code",
   "execution_count": 19,
   "metadata": {},
   "outputs": [
    {
     "name": "stdout",
     "output_type": "stream",
     "text": [
      "'data.frame':\t119390 obs. of  32 variables:\n",
      " $ hotel                         : Factor w/ 2 levels \"City Hotel\",\"Resort Hotel\": 2 2 2 2 2 2 2 2 2 2 ...\n",
      " $ is_canceled                   : int  0 0 0 0 0 0 0 0 1 1 ...\n",
      " $ lead_time                     : int  342 737 7 13 14 14 0 9 85 75 ...\n",
      " $ arrival_date_year             : int  2015 2015 2015 2015 2015 2015 2015 2015 2015 2015 ...\n",
      " $ arrival_date_month            : Factor w/ 12 levels \"April\",\"August\",..: 6 6 6 6 6 6 6 6 6 6 ...\n",
      " $ arrival_date_week_number      : int  27 27 27 27 27 27 27 27 27 27 ...\n",
      " $ arrival_date_day_of_month     : int  1 1 1 1 1 1 1 1 1 1 ...\n",
      " $ stays_in_weekend_nights       : int  0 0 0 0 0 0 0 0 0 0 ...\n",
      " $ stays_in_week_nights          : int  0 0 1 1 2 2 2 2 3 3 ...\n",
      " $ adults                        : int  2 2 1 1 2 2 2 2 2 2 ...\n",
      " $ children                      : int  0 0 0 0 0 0 0 0 0 0 ...\n",
      " $ babies                        : int  0 0 0 0 0 0 0 0 0 0 ...\n",
      " $ meal                          : Factor w/ 5 levels \"BB\",\"FB\",\"HB\",..: 1 1 1 1 1 1 1 2 1 3 ...\n",
      " $ country                       : Factor w/ 178 levels \"ABW\",\"AGO\",\"AIA\",..: 137 137 60 60 60 60 137 137 137 137 ...\n",
      " $ market_segment                : Factor w/ 8 levels \"Aviation\",\"Complementary\",..: 4 4 4 3 7 7 4 4 7 6 ...\n",
      " $ distribution_channel          : Factor w/ 5 levels \"Corporate\",\"Direct\",..: 2 2 2 1 4 4 2 2 4 4 ...\n",
      " $ is_repeated_guest             : int  0 0 0 0 0 0 0 0 0 0 ...\n",
      " $ previous_cancellations        : int  0 0 0 0 0 0 0 0 0 0 ...\n",
      " $ previous_bookings_not_canceled: int  0 0 0 0 0 0 0 0 0 0 ...\n",
      " $ reserved_room_type            : Factor w/ 10 levels \"A\",\"B\",\"C\",\"D\",..: 3 3 1 1 1 1 3 3 1 4 ...\n",
      " $ assigned_room_type            : Factor w/ 12 levels \"A\",\"B\",\"C\",\"D\",..: 3 3 3 1 1 1 3 3 1 4 ...\n",
      " $ booking_changes               : int  3 4 0 0 0 0 0 0 0 0 ...\n",
      " $ deposit_type                  : Factor w/ 3 levels \"No Deposit\",\"Non Refund\",..: 1 1 1 1 1 1 1 1 1 1 ...\n",
      " $ agent                         : Factor w/ 334 levels \"1\",\"10\",\"103\",..: 334 334 334 157 103 103 334 156 103 40 ...\n",
      " $ company                       : Factor w/ 353 levels \"10\",\"100\",\"101\",..: 353 353 353 353 353 353 353 353 353 353 ...\n",
      " $ days_in_waiting_list          : int  0 0 0 0 0 0 0 0 0 0 ...\n",
      " $ customer_type                 : Factor w/ 4 levels \"Contract\",\"Group\",..: 3 3 3 3 3 3 3 3 3 3 ...\n",
      " $ adr                           : num  0 0 75 75 98 ...\n",
      " $ required_car_parking_spaces   : int  0 0 0 0 0 0 0 0 0 0 ...\n",
      " $ total_of_special_requests     : int  0 0 0 0 1 1 0 1 1 0 ...\n",
      " $ reservation_status            : Factor w/ 3 levels \"Canceled\",\"Check-Out\",..: 2 2 2 2 2 2 2 2 1 1 ...\n",
      " $ reservation_status_date       : Factor w/ 926 levels \"2014-10-17\",\"2014-11-18\",..: 122 122 123 123 124 124 124 124 73 62 ...\n"
     ]
    }
   ],
   "source": [
    "str(hData)"
   ]
  },
  {
   "cell_type": "code",
   "execution_count": 33,
   "metadata": {},
   "outputs": [],
   "source": [
    "surveys_complete <- read.csv(\"hotel_bookings.csv\")"
   ]
  },
  {
   "cell_type": "code",
   "execution_count": 34,
   "metadata": {},
   "outputs": [
    {
     "data": {
      "image/png": "[encoded data removed]",
      "text/plain": [
       "plot without title"
      ]
     },
     "metadata": {},
     "output_type": "display_data"
    }
   ],
   "source": [
    "ggplot(data = surveys_complete)"
   ]
  },
  {
   "cell_type": "code",
   "execution_count": 40,
   "metadata": {},
   "outputs": [
    {
     "data": {
      "image/png": "[encoded data removed]",
      "text/plain": [
       "plot without title"
      ]
     },
     "metadata": {},
     "output_type": "display_data"
    }
   ],
   "source": [
    "ggplot(data = surveys_complete, mapping = aes(x = adults , y = children))"
   ]
  },
  {
   "cell_type": "code",
   "execution_count": 44,
   "metadata": {},
   "outputs": [
    {
     "name": "stderr",
     "output_type": "stream",
     "text": [
      "ERROR while rich displaying an object: Error in children(stats_count = 1): could not find function \"children\"\n",
      "\n",
      "Traceback:\n",
      "1. FUN(X[[i]], ...)\n",
      "2. tryCatch(withCallingHandlers({\n",
      " .     if (!mime %in% names(repr::mime2repr)) \n",
      " .         stop(\"No repr_* for mimetype \", mime, \" in repr::mime2repr\")\n",
      " .     rpr <- repr::mime2repr[[mime]](obj)\n",
      " .     if (is.null(rpr)) \n",
      " .         return(NULL)\n",
      " .     prepare_content(is.raw(rpr), rpr)\n",
      " . }, error = error_handler), error = outer_handler)\n",
      "3. tryCatchList(expr, classes, parentenv, handlers)\n",
      "4. tryCatchOne(expr, names, parentenv, handlers[[1L]])\n",
      "5. doTryCatch(return(expr), name, parentenv, handler)\n",
      "6. withCallingHandlers({\n",
      " .     if (!mime %in% names(repr::mime2repr)) \n",
      " .         stop(\"No repr_* for mimetype \", mime, \" in repr::mime2repr\")\n",
      " .     rpr <- repr::mime2repr[[mime]](obj)\n",
      " .     if (is.null(rpr)) \n",
      " .         return(NULL)\n",
      " .     prepare_content(is.raw(rpr), rpr)\n",
      " . }, error = error_handler)\n",
      "7. repr::mime2repr[[mime]](obj)\n",
      "8. repr_text.default(obj)\n",
      "9. paste(capture.output(print(obj)), collapse = \"\\n\")\n",
      "10. capture.output(print(obj))\n",
      "11. evalVis(expr)\n",
      "12. withVisible(eval(expr, pf))\n",
      "13. eval(expr, pf)\n",
      "14. eval(expr, pf)\n",
      "15. print(obj)\n",
      "16. print.ggplot(obj)\n",
      "17. ggplot_build(x)\n",
      "18. ggplot_build.ggplot(x)\n",
      "19. by_layer(function(l, d) l$compute_aesthetics(d, plot))\n",
      "20. f(l = layers[[i]], d = data[[i]])\n",
      "21. l$compute_aesthetics(d, plot)\n",
      "22. f(..., self = self)\n",
      "23. scales_add_defaults(plot$scales, data, aesthetics, plot$plot_env)\n",
      "24. lapply(aesthetics[new_aesthetics], eval_tidy, data = data)\n",
      "25. FUN(X[[i]], ...)\n"
     ]
    },
    {
     "data": {
      "image/png": "[encoded data removed]",
      "text/plain": [
       "plot without title"
      ]
     },
     "metadata": {},
     "output_type": "display_data"
    }
   ],
   "source": [
    "ggplot(data = surveys_complete, aes(x = adults , y = children(stats_count=1))) +\n",
    "  geom_bar()"
   ]
  },
  {
   "cell_type": "code",
   "execution_count": 45,
   "metadata": {},
   "outputs": [
    {
     "name": "stderr",
     "output_type": "stream",
     "text": [
      "Warning message:\n",
      "“Continuous x aesthetic -- did you forget aes(group=...)?”Warning message:\n",
      "“Removed 4 rows containing non-finite values (stat_boxplot).”"
     ]
    },
    {
     "data": {
      "image/png": "[encoded data removed]",
      "text/plain": [
       "plot without title"
      ]
     },
     "metadata": {},
     "output_type": "display_data"
    }
   ],
   "source": [
    "ggplot(data = surveys_complete, mapping = aes(x = adults, y = children)) +\n",
    "    geom_boxplot()"
   ]
  },
  {
   "cell_type": "code",
   "execution_count": 48,
   "metadata": {},
   "outputs": [
    {
     "name": "stderr",
     "output_type": "stream",
     "text": [
      "ERROR while rich displaying an object: Error in FUN(X[[i]], ...): object 'children' not found\n",
      "\n",
      "Traceback:\n",
      "1. FUN(X[[i]], ...)\n",
      "2. tryCatch(withCallingHandlers({\n",
      " .     if (!mime %in% names(repr::mime2repr)) \n",
      " .         stop(\"No repr_* for mimetype \", mime, \" in repr::mime2repr\")\n",
      " .     rpr <- repr::mime2repr[[mime]](obj)\n",
      " .     if (is.null(rpr)) \n",
      " .         return(NULL)\n",
      " .     prepare_content(is.raw(rpr), rpr)\n",
      " . }, error = error_handler), error = outer_handler)\n",
      "3. tryCatchList(expr, classes, parentenv, handlers)\n",
      "4. tryCatchOne(expr, names, parentenv, handlers[[1L]])\n",
      "5. doTryCatch(return(expr), name, parentenv, handler)\n",
      "6. withCallingHandlers({\n",
      " .     if (!mime %in% names(repr::mime2repr)) \n",
      " .         stop(\"No repr_* for mimetype \", mime, \" in repr::mime2repr\")\n",
      " .     rpr <- repr::mime2repr[[mime]](obj)\n",
      " .     if (is.null(rpr)) \n",
      " .         return(NULL)\n",
      " .     prepare_content(is.raw(rpr), rpr)\n",
      " . }, error = error_handler)\n",
      "7. repr::mime2repr[[mime]](obj)\n",
      "8. repr_text.default(obj)\n",
      "9. paste(capture.output(print(obj)), collapse = \"\\n\")\n",
      "10. capture.output(print(obj))\n",
      "11. evalVis(expr)\n",
      "12. withVisible(eval(expr, pf))\n",
      "13. eval(expr, pf)\n",
      "14. eval(expr, pf)\n",
      "15. print(obj)\n",
      "16. print.ggplot(obj)\n",
      "17. ggplot_build(x)\n",
      "18. ggplot_build.ggplot(x)\n",
      "19. by_layer(function(l, d) l$compute_aesthetics(d, plot))\n",
      "20. f(l = layers[[i]], d = data[[i]])\n",
      "21. l$compute_aesthetics(d, plot)\n",
      "22. f(..., self = self)\n",
      "23. scales_add_defaults(plot$scales, data, aesthetics, plot$plot_env)\n",
      "24. lapply(aesthetics[new_aesthetics], eval_tidy, data = data)\n",
      "25. FUN(X[[i]], ...)\n"
     ]
    },
    {
     "data": {
      "image/png": "[encoded data removed]",
      "text/plain": [
       "plot without title"
      ]
     },
     "metadata": {},
     "output_type": "display_data"
    }
   ],
   "source": [
    "ggplot(mpg) + geom_bar(aes(y = children))"
   ]
  },
  {
   "cell_type": "code",
   "execution_count": null,
   "metadata": {},
   "outputs": [],
   "source": []
  }
 ],
 "metadata": {
  "kernelspec": {
   "display_name": "R",
   "language": "R",
   "name": "ir"
  },
  "language_info": {
   "codemirror_mode": "r",
   "file_extension": ".r",
   "mimetype": "text/x-r-source",
   "name": "R",
   "pygments_lexer": "r",
   "version": "3.6.0"
  }
 },
 "nbformat": 4,
 "nbformat_minor": 2
}
